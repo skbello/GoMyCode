{
 "cells": [
  {
   "cell_type": "code",
   "execution_count": 67,
   "id": "991c6737",
   "metadata": {
    "scrolled": true
   },
   "outputs": [
    {
     "name": "stdout",
     "output_type": "stream",
     "text": [
      "Welcome to Python world!\n"
     ]
    }
   ],
   "source": [
    "print(\"Welcome to Python world!\")"
   ]
  },
  {
   "cell_type": "code",
   "execution_count": null,
   "id": "fe5f4ad6",
   "metadata": {},
   "outputs": [],
   "source": []
  }
 ],
 "metadata": {
  "kernelspec": {
   "display_name": "Python 3 (ipykernel)",
   "language": "python",
   "name": "python3"
  },
  "language_info": {
   "codemirror_mode": {
    "name": "ipython",
    "version": 3
   },
   "file_extension": ".py",
   "mimetype": "text/x-python",
   "name": "python",
   "nbconvert_exporter": "python",
   "pygments_lexer": "ipython3",
   "version": "3.9.12"
  }
 },
 "nbformat": 4,
 "nbformat_minor": 5
}
