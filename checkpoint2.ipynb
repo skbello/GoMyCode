{
 "cells": [
  {
   "cell_type": "code",
   "execution_count": 11,
   "id": "dcd5ee2a",
   "metadata": {},
   "outputs": [
    {
     "name": "stdout",
     "output_type": "stream",
     "text": [
      "firstname: sk\n",
      "lastname: bello\n",
      "bello sk\n"
     ]
    }
   ],
   "source": [
    "#Write a Python program that accepts the user's first and last name, and prints them in reverse order with a space between them.\n",
    "a= input (\"firstname: \") \n",
    "b= input (\"lastname: \")\n",
    "print (b + \" \"+a)"
   ]
  },
  {
   "cell_type": "code",
   "execution_count": 48,
   "id": "8ed1403c",
   "metadata": {},
   "outputs": [
    {
     "data": {
      "text/plain": [
       "615"
      ]
     },
     "execution_count": 48,
     "metadata": {},
     "output_type": "execute_result"
    }
   ],
   "source": [
    "#Write a Python program that accepts an integer (n) and computes the value of n+nn+nnn\n",
    "#The sample value of n is 5.\n",
    "#Expected Result: 615 (5+55+555)\n",
    "n= 5\n",
    "k=3\n",
    "temp = str(n)\n",
    "a= []\n",
    "for i in range (1,k+1):\n",
    "    a.append(temp*i)\n",
    "sum = 0\n",
    "for i in a:\n",
    "    \n",
    "    sum = sum + int(i)\n",
    "sum"
   ]
  },
  {
   "cell_type": "code",
   "execution_count": 52,
   "id": "67ef7ed8",
   "metadata": {},
   "outputs": [
    {
     "name": "stdout",
     "output_type": "stream",
     "text": [
      "Enter Number: 6\n",
      "6 is an even number\n"
     ]
    }
   ],
   "source": [
    "#Write a Python program to find whether a given number (accept from the user) is even or odd, \n",
    "#...and print out an appropriate message to the user\n",
    "num= int(input(\"Enter Number: \"))\n",
    "balance= num%2 #the remainder after the division by 2\n",
    "if (balance ==0):\n",
    "    print (num,\"is an even number\")\n",
    "else:\n",
    "    print (num,\"is an odd number\")"
   ]
  },
  {
   "cell_type": "code",
   "execution_count": 60,
   "id": "cfb996a6",
   "metadata": {},
   "outputs": [
    {
     "name": "stdout",
     "output_type": "stream",
     "text": [
      "2030,2065,2100,2135,2170,2205,2240,2275,2310,2345,2380,2415,2450,2485,2520,2555,2590,2625,2660,2695,2730,2765,2800,2835,2870,2905,2940,2975,3010,3045,3080,3115,3150,3185,"
     ]
    }
   ],
   "source": [
    "#Write a program which will find all such numbers which are divisible by 7 but are not a multiple of 5, \n",
    "#between 2000 and 3200 (both included). The numbers obtained should be printed in a sequence on a single line.\n",
    "lowest=2000\n",
    "highest= 3200\n",
    "for i in range (lowest,highest):\n",
    "    if i%7==0 and i%5==0:\n",
    "        print (i,end=\",\")\n",
    "    "
   ]
  },
  {
   "cell_type": "code",
   "execution_count": 1,
   "id": "d23e6435",
   "metadata": {},
   "outputs": [
    {
     "name": "stdout",
     "output_type": "stream",
     "text": [
      "input the number: 8\n",
      "the factorial of 8 is 40320\n"
     ]
    }
   ],
   "source": [
    "#Write a program that can compute the factorial of a given number. The results should be printed in a sequence\n",
    "#...on a single line. Suppose the following input is supplied to the program: 8. Then, the output should be: 40320\n",
    "x= int(input(\"input the number: \"))\n",
    "output=1\n",
    "for i in range(x,0,-1):\n",
    "    output = output*i\n",
    "print(\"the factorial of\",x,\"is\",output)"
   ]
  },
  {
   "cell_type": "code",
   "execution_count": 9,
   "id": "7b77289e",
   "metadata": {},
   "outputs": [
    {
     "name": "stdout",
     "output_type": "stream",
     "text": [
      "enter string: hello team\n",
      "hlota\n"
     ]
    }
   ],
   "source": [
    "#Write a program to remove the characters which have odd index values of a given string.\n",
    "g= input(\"enter string: \")\n",
    "g_plus=\"\"\n",
    "for i in range (len(g)):\n",
    "    if(i%2==0):\n",
    "        g_plus+=g[i]\n",
    "print (g_plus)"
   ]
  },
  {
   "cell_type": "code",
   "execution_count": 24,
   "id": "7775fe66",
   "metadata": {},
   "outputs": [
    {
     "name": "stdout",
     "output_type": "stream",
     "text": [
      "Enter total price: 100\n",
      "your discount is:  10.0\n",
      "your Total price inclusive of discount is:  90.0 Naira\n"
     ]
    }
   ],
   "source": [
    "#In this challenge, you must discount a price according to its value.\n",
    "#If the price is 500 or above, there will be a 50% discount.\n",
    "#If the price is between 200 and 500 (200 inclusive), there will be a 30% discount.\n",
    "#If the price is less than 200, there will be a 10% discount.\n",
    "\n",
    "price=int(input(\"Enter total price: \"))\n",
    "if (price >=500):\n",
    "    q=price*50/100\n",
    "    discount= price-q\n",
    "    print (\"your discount is: \",q)\n",
    "if price in range(199,500):\n",
    "    q=price*30/100\n",
    "    discount= price-q\n",
    "    print (\"your discount is: \",q)\n",
    "if (price<200):\n",
    "    q=price*10/100\n",
    "    discount=price-price*10/100\n",
    "    print (\"your discount is: \",q)\n",
    "print(\"your Total price inclusive of discount is: \",discount,\"Naira\")"
   ]
  },
  {
   "cell_type": "code",
   "execution_count": null,
   "id": "009a776c",
   "metadata": {},
   "outputs": [],
   "source": []
  },
  {
   "cell_type": "code",
   "execution_count": null,
   "id": "e0efc46e",
   "metadata": {},
   "outputs": [],
   "source": []
  }
 ],
 "metadata": {
  "kernelspec": {
   "display_name": "Python 3 (ipykernel)",
   "language": "python",
   "name": "python3"
  },
  "language_info": {
   "codemirror_mode": {
    "name": "ipython",
    "version": 3
   },
   "file_extension": ".py",
   "mimetype": "text/x-python",
   "name": "python",
   "nbconvert_exporter": "python",
   "pygments_lexer": "ipython3",
   "version": "3.9.12"
  }
 },
 "nbformat": 4,
 "nbformat_minor": 5
}
