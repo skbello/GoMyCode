{
 "cells": [
  {
   "cell_type": "code",
   "execution_count": 9,
   "id": "c804eb60",
   "metadata": {},
   "outputs": [
    {
     "data": {
      "text/plain": [
       "36"
      ]
     },
     "execution_count": 9,
     "metadata": {},
     "output_type": "execute_result"
    }
   ],
   "source": [
    "#Write a Python program that multiplies all the items in a list.\n",
    "#Sample list= [2, 3, 6]. Answer =36\n",
    "\n",
    "my_list=[2,3,6]\n",
    "a=my_list[0]*my_list[1]*my_list[2]\n",
    "a"
   ]
  },
  {
   "cell_type": "code",
   "execution_count": 27,
   "id": "db0472e2",
   "metadata": {},
   "outputs": [
    {
     "data": {
      "text/plain": [
       "[(2, 1), (1, 2), (2, 3), (4, 4), (2, 5)]"
      ]
     },
     "execution_count": 27,
     "metadata": {},
     "output_type": "execute_result"
    }
   ],
   "source": [
    "#Write a Python program to get a list sorted in increasing order by the last element in each tuple,\n",
    "#...from a given list of non-empty tuples.\n",
    "#Sample List : [(2, 5), (1, 2), (4, 4), (2, 3), (2, 1)]\n",
    "new_list = [(2, 5), (1, 2), (4, 4), (2, 3), (2, 1)]\n",
    "def last_element(n):\n",
    "    return n[-1]\n",
    " new_list2=sorted(new_list, key=last_element,reverse=0)\n",
    "new_list2"
   ]
  },
  {
   "cell_type": "code",
   "execution_count": 66,
   "id": "a43c6637",
   "metadata": {},
   "outputs": [
    {
     "data": {
      "text/plain": [
       "{'a': 400, 'b': 400, 'd': 400, 'c': 300}"
      ]
     },
     "execution_count": 66,
     "metadata": {},
     "output_type": "execute_result"
    }
   ],
   "source": [
    "#Write a Python program that combines two dictionaries by adding values for common keys.\n",
    "#d1 = {'a': 100, 'b': 200, 'c':300}\n",
    "#d2 = {'a': 300, 'b': 200, 'd':400}\n",
    "\n",
    "d1 = {'a': 100, 'b': 200, 'c':300}\n",
    "d2 = {'a': 300, 'b': 200, 'd':400}\n",
    "\n",
    "for key in d1:\n",
    "    if key in d2:\n",
    "        d2[key]=d1[key]+d2[key]\n",
    "    else:\n",
    "        d2[key]=d1[key]\n",
    "    \n",
    "d2"
   ]
  },
  {
   "cell_type": "code",
   "execution_count": 85,
   "id": "5850868b",
   "metadata": {},
   "outputs": [
    {
     "name": "stdout",
     "output_type": "stream",
     "text": [
      "enter integral number: 8\n",
      "{1: 1, 2: 4, 3: 9, 4: 16, 5: 25, 6: 36, 7: 49, 8: 64}\n"
     ]
    }
   ],
   "source": [
    "#With a given integral number n, write a program to generate a dictionary that contains (i, i*i) \n",
    "#...so that is an integral number between 1 and n (both included). Then the program should print the dictionary. \n",
    "#...Suppose the following input is supplied to the program: 8. Then, \n",
    "#...the output should be: {1: 1, 2: 4, 3: 9, 4: 16, 5: 25, 6: 36, 7: 49, 8: 64}\n",
    "n=int(input(\"enter integral number: \"))\n",
    "d1=dict()\n",
    "for i in range(1,n+1):\n",
    "    d1[i]=i*i\n",
    "print (d1)"
   ]
  },
  {
   "cell_type": "code",
   "execution_count": 88,
   "id": "6aa6ed83",
   "metadata": {},
   "outputs": [
    {
     "name": "stdout",
     "output_type": "stream",
     "text": [
      "[('item3', '24.5'), ('item2', '15.10'), ('item1', '12.20')]\n"
     ]
    }
   ],
   "source": [
    "#Write a program to sort a tuple by its float element.\n",
    "#For example: list= [('item1', '12.20'), ('item2', '15.10'), ('item3', '24.5')\n",
    "list= [('item1', '12.20'), ('item2', '15.10'), ('item3', '24.5')]\n",
    "print(sorted(list, key=lambda x: float (x[1]),reverse=True))"
   ]
  },
  {
   "cell_type": "code",
   "execution_count": null,
   "id": "91d658ea",
   "metadata": {},
   "outputs": [],
   "source": []
  }
 ],
 "metadata": {
  "kernelspec": {
   "display_name": "Python 3 (ipykernel)",
   "language": "python",
   "name": "python3"
  },
  "language_info": {
   "codemirror_mode": {
    "name": "ipython",
    "version": 3
   },
   "file_extension": ".py",
   "mimetype": "text/x-python",
   "name": "python",
   "nbconvert_exporter": "python",
   "pygments_lexer": "ipython3",
   "version": "3.9.12"
  }
 },
 "nbformat": 4,
 "nbformat_minor": 5
}
